{
 "cells": [
  {
   "cell_type": "code",
   "execution_count": 1,
   "id": "fa4137bd-ee08-4054-9ac1-cf68820fcc2d",
   "metadata": {},
   "outputs": [],
   "source": [
    "corpus_of_documents = [\n",
    "    \"Wake up at Morning 6 AM and take the fresh air.\",\n",
    "    \"Visit a College library and discover some interesting book.\",\n",
    "    \"Attend a Java class and solve the problems.\",\n",
    "    \"Go for a mall and admire her cute face.\",\n",
    "    \"Have a trip with friends and share some stories.\",\n",
    "    \"Explore a new road side push cart and try some tasty food.\",\n",
    "    \"Take Meditation and keep my mind active and sharp.\",\n",
    "    \"Join a local cricket team and enjoy some friendly competition.\",\n",
    "    \"Attend a workshop or lecture on a topic you're interested in.\",\n",
    "    \"Visit a park and make some conversation with her.\"\n",
    "]"
   ]
  },
  {
   "cell_type": "code",
   "execution_count": 3,
   "id": "6a5aa9fb-6106-4bd5-9338-02b2b525ffa1",
   "metadata": {},
   "outputs": [
    {
     "data": {
      "text/plain": [
       "['Wake up at Morning 6 AM and take the fresh air.',\n",
       " 'Visit a College library and discover some interesting book.',\n",
       " 'Attend a Java class and solve the problems.',\n",
       " 'Go for a mall and admire her cute face.',\n",
       " 'Have a trip with friends and share some stories.',\n",
       " 'Explore a new road side push cart and try some tasty food.',\n",
       " 'Take Meditation and keep my mind active and sharp.',\n",
       " 'Join a local cricket team and enjoy some friendly competition.',\n",
       " \"Attend a workshop or lecture on a topic you're interested in.\",\n",
       " 'Visit a park and make some conversation with her.']"
      ]
     },
     "execution_count": 3,
     "metadata": {},
     "output_type": "execute_result"
    }
   ],
   "source": [
    "corpus_of_documents"
   ]
  },
  {
   "cell_type": "code",
   "execution_count": 5,
   "id": "b69dd61e-cb87-46d4-9dd3-954e9c9d723c",
   "metadata": {},
   "outputs": [],
   "source": [
    "user_query = \"I am a data scientist and I live in India\""
   ]
  },
  {
   "cell_type": "code",
   "execution_count": 7,
   "id": "f14f33ec-43f0-4d60-a749-7e79313560a6",
   "metadata": {},
   "outputs": [],
   "source": [
    "document = \"India is a country where you can find some of the great data scientist live\""
   ]
  },
  {
   "cell_type": "code",
   "execution_count": 9,
   "id": "ed3b3d35-9622-4359-996b-ae49af904ab4",
   "metadata": {},
   "outputs": [],
   "source": [
    "from collections import Counter\n",
    "import math"
   ]
  },
  {
   "cell_type": "code",
   "execution_count": 11,
   "id": "5560354c-316f-4b65-bbcd-ab466694ca68",
   "metadata": {},
   "outputs": [],
   "source": [
    "query_tokens = user_query.lower().split(\" \")"
   ]
  },
  {
   "cell_type": "code",
   "execution_count": 13,
   "id": "552fd7f8-49a9-4b3b-8a49-d4e4e6321ffa",
   "metadata": {},
   "outputs": [
    {
     "data": {
      "text/plain": [
       "['i', 'am', 'a', 'data', 'scientist', 'and', 'i', 'live', 'in', 'india']"
      ]
     },
     "execution_count": 13,
     "metadata": {},
     "output_type": "execute_result"
    }
   ],
   "source": [
    "query_tokens"
   ]
  },
  {
   "cell_type": "code",
   "execution_count": 17,
   "id": "f310c52a-91ac-4d31-8bd4-1508f2040f23",
   "metadata": {},
   "outputs": [],
   "source": [
    "document_token = document.lower().split(\" \")"
   ]
  },
  {
   "cell_type": "code",
   "execution_count": 19,
   "id": "f6f1cf40-e974-4653-a778-9b1d92e16882",
   "metadata": {},
   "outputs": [
    {
     "data": {
      "text/plain": [
       "['india',\n",
       " 'is',\n",
       " 'a',\n",
       " 'country',\n",
       " 'where',\n",
       " 'you',\n",
       " 'can',\n",
       " 'find',\n",
       " 'some',\n",
       " 'of',\n",
       " 'the',\n",
       " 'great',\n",
       " 'data',\n",
       " 'scientist',\n",
       " 'live']"
      ]
     },
     "execution_count": 19,
     "metadata": {},
     "output_type": "execute_result"
    }
   ],
   "source": [
    "document_token"
   ]
  },
  {
   "cell_type": "code",
   "execution_count": 21,
   "id": "a8a01e81-c7f1-4229-bcbe-a4fcf0ee8b62",
   "metadata": {},
   "outputs": [],
   "source": [
    "query_counter = Counter(query_tokens)"
   ]
  },
  {
   "cell_type": "code",
   "execution_count": 23,
   "id": "b606d62e-2c99-457c-8ac7-cfa8c175af67",
   "metadata": {},
   "outputs": [
    {
     "data": {
      "text/plain": [
       "Counter({'i': 2,\n",
       "         'am': 1,\n",
       "         'a': 1,\n",
       "         'data': 1,\n",
       "         'scientist': 1,\n",
       "         'and': 1,\n",
       "         'live': 1,\n",
       "         'in': 1,\n",
       "         'india': 1})"
      ]
     },
     "execution_count": 23,
     "metadata": {},
     "output_type": "execute_result"
    }
   ],
   "source": [
    "query_counter"
   ]
  },
  {
   "cell_type": "code",
   "execution_count": 25,
   "id": "ef8ce2ec-b3d2-4746-91cc-1d891113fff2",
   "metadata": {},
   "outputs": [],
   "source": [
    "document_counter = Counter(document_token)"
   ]
  },
  {
   "cell_type": "code",
   "execution_count": 27,
   "id": "51a83637-7a0b-4aaa-82ec-727abc2dc65f",
   "metadata": {},
   "outputs": [
    {
     "data": {
      "text/plain": [
       "Counter({'india': 1,\n",
       "         'is': 1,\n",
       "         'a': 1,\n",
       "         'country': 1,\n",
       "         'where': 1,\n",
       "         'you': 1,\n",
       "         'can': 1,\n",
       "         'find': 1,\n",
       "         'some': 1,\n",
       "         'of': 1,\n",
       "         'the': 1,\n",
       "         'great': 1,\n",
       "         'data': 1,\n",
       "         'scientist': 1,\n",
       "         'live': 1})"
      ]
     },
     "execution_count": 27,
     "metadata": {},
     "output_type": "execute_result"
    }
   ],
   "source": [
    "document_counter"
   ]
  },
  {
   "cell_type": "code",
   "execution_count": 29,
   "id": "48bb9892-a3e2-43ea-9e6e-4f956a582ba2",
   "metadata": {},
   "outputs": [],
   "source": [
    "dict1 = {\n",
    "    \"Name\" : \"Tenyson\"\n",
    "}"
   ]
  },
  {
   "cell_type": "code",
   "execution_count": 31,
   "id": "1de2c38c-59db-4920-ad43-31ee9836e79e",
   "metadata": {},
   "outputs": [
    {
     "data": {
      "text/plain": [
       "'Tenyson'"
      ]
     },
     "execution_count": 31,
     "metadata": {},
     "output_type": "execute_result"
    }
   ],
   "source": [
    "dict1[\"Name\"]"
   ]
  },
  {
   "cell_type": "code",
   "execution_count": 33,
   "id": "e28dd44c-02ff-4dc5-b062-e1a1b3a61075",
   "metadata": {},
   "outputs": [],
   "source": [
    "lst = []\n",
    "for tokens in query_counter.keys():\n",
    "    lst.append(query_counter[tokens])"
   ]
  },
  {
   "cell_type": "code",
   "execution_count": 35,
   "id": "6f940f8f-bee9-4d81-affe-23390078db20",
   "metadata": {},
   "outputs": [],
   "source": [
    "user_query = \"I am a data scientist and I live in India\"\n",
    "document = \"India is a country where you can find some of the great data scientist live\""
   ]
  },
  {
   "cell_type": "code",
   "execution_count": 37,
   "id": "aa54cea5-b9b3-4dc9-b8ff-0414452b2699",
   "metadata": {},
   "outputs": [
    {
     "data": {
      "text/plain": [
       "[2, 1, 1, 1, 1, 1, 1, 1, 1]"
      ]
     },
     "execution_count": 37,
     "metadata": {},
     "output_type": "execute_result"
    }
   ],
   "source": [
    "lst"
   ]
  },
  {
   "cell_type": "code",
   "execution_count": 39,
   "id": "b479f738-151d-4633-b001-939f0388f4d8",
   "metadata": {},
   "outputs": [
    {
     "name": "stdout",
     "output_type": "stream",
     "text": [
      "live\n",
      "india\n",
      "data\n",
      "a\n",
      "scientist\n"
     ]
    }
   ],
   "source": [
    "for tokens in query_counter.keys() & document_counter.keys():\n",
    "    print(tokens)"
   ]
  },
  {
   "cell_type": "code",
   "execution_count": 41,
   "id": "6ac490f5-05c5-41f9-8684-4249fb3e5477",
   "metadata": {},
   "outputs": [],
   "source": [
    "my_lst = []\n",
    "for tokens in query_counter.keys() & document_counter.keys():\n",
    "    my_lst.append(query_counter[tokens]*document_counter[tokens])"
   ]
  },
  {
   "cell_type": "code",
   "execution_count": 43,
   "id": "5c867fd7-f40c-41e3-86d4-0525458fceee",
   "metadata": {},
   "outputs": [
    {
     "data": {
      "text/plain": [
       "[1, 1, 1, 1, 1]"
      ]
     },
     "execution_count": 43,
     "metadata": {},
     "output_type": "execute_result"
    }
   ],
   "source": [
    "my_lst"
   ]
  },
  {
   "cell_type": "code",
   "execution_count": 45,
   "id": "7dc10736-cc0d-45b2-ab2e-bd42eb341403",
   "metadata": {},
   "outputs": [],
   "source": [
    "dot_product = sum(my_lst)"
   ]
  },
  {
   "cell_type": "code",
   "execution_count": 47,
   "id": "fa43b6b3-0a5b-4974-bd32-1160e3aedb92",
   "metadata": {},
   "outputs": [
    {
     "data": {
      "text/plain": [
       "5"
      ]
     },
     "execution_count": 47,
     "metadata": {},
     "output_type": "execute_result"
    }
   ],
   "source": [
    "dot_product"
   ]
  },
  {
   "cell_type": "code",
   "execution_count": 49,
   "id": "282819dd-b979-4514-ae9a-0d947d08dcc7",
   "metadata": {},
   "outputs": [],
   "source": [
    "query_mag = math.sqrt(sum(query_counter[token] ** 2 for token in query_counter))"
   ]
  },
  {
   "cell_type": "code",
   "execution_count": 51,
   "id": "07e41139-6c3c-4181-9292-b8e88315e07d",
   "metadata": {},
   "outputs": [
    {
     "data": {
      "text/plain": [
       "3.4641016151377544"
      ]
     },
     "execution_count": 51,
     "metadata": {},
     "output_type": "execute_result"
    }
   ],
   "source": [
    "query_mag"
   ]
  },
  {
   "cell_type": "code",
   "execution_count": 53,
   "id": "6dccc86e-1aa4-42cd-8665-f4fd73e26dd3",
   "metadata": {},
   "outputs": [
    {
     "data": {
      "text/plain": [
       "3.872983346207417"
      ]
     },
     "execution_count": 53,
     "metadata": {},
     "output_type": "execute_result"
    }
   ],
   "source": [
    "document_mag = math.sqrt(sum(document_counter[token] ** 2 for token in document_counter))\n",
    "document_mag"
   ]
  },
  {
   "cell_type": "code",
   "execution_count": 55,
   "id": "86f577c7-8371-4f6a-b1f2-f345d0996e9d",
   "metadata": {},
   "outputs": [
    {
     "data": {
      "text/plain": [
       "0.372677996249965"
      ]
     },
     "execution_count": 55,
     "metadata": {},
     "output_type": "execute_result"
    }
   ],
   "source": [
    "similarity = (dot_product)/(query_mag * document_mag)\n",
    "similarity"
   ]
  },
  {
   "cell_type": "code",
   "execution_count": 57,
   "id": "c17f55d2-887e-4f54-b79e-1cd190b173c3",
   "metadata": {},
   "outputs": [],
   "source": [
    "user_query = \"is yoga good for health\"\n",
    "document = \"yoga is very good for living a healthy lifestyle\""
   ]
  },
  {
   "cell_type": "code",
   "execution_count": 59,
   "id": "de759529-82b5-4334-9ec1-4d53382bc18d",
   "metadata": {},
   "outputs": [],
   "source": [
    "def cosine_similarity(query, document):\n",
    "    # Tokenize and convert to lowercase\n",
    "    query_tokens = query.lower().split()\n",
    "    document_tokens = document.lower().split()\n",
    "\n",
    "    # Create Counters for query and document\n",
    "    query_counter = Counter(query_tokens)\n",
    "    document_counter = Counter(document_tokens)\n",
    "\n",
    "    # Calculate dot product\n",
    "    common_tokens = set(query_counter.keys()) & set(document_counter.keys())\n",
    "    dot_product = sum(query_counter[token] * document_counter[token] for token in common_tokens)\n",
    "\n",
    "    # Calculate magnitudes\n",
    "    query_mag = math.sqrt(sum(count ** 2 for count in query_counter.values()))\n",
    "    document_mag = math.sqrt(sum(count ** 2 for count in document_counter.values()))\n",
    "\n",
    "    # Handle division by zero\n",
    "    if query_mag == 0 or document_mag == 0:\n",
    "        return 0.0\n",
    "\n",
    "    # Calculate and return cosine similarity\n",
    "    return dot_product / (query_mag * document_mag)"
   ]
  },
  {
   "cell_type": "code",
   "execution_count": 61,
   "id": "9ace67fa-2e6a-47b8-8f01-499574f14fb0",
   "metadata": {},
   "outputs": [
    {
     "data": {
      "text/plain": [
       "0.5962847939999439"
      ]
     },
     "execution_count": 61,
     "metadata": {},
     "output_type": "execute_result"
    }
   ],
   "source": [
    "cosine_similarity(user_query, document)"
   ]
  },
  {
   "cell_type": "code",
   "execution_count": 63,
   "id": "62047dd0-7b97-44aa-8485-9e8b89dd6f45",
   "metadata": {},
   "outputs": [],
   "source": [
    "def return_response(query, corpus):\n",
    "    similarities = []\n",
    "\n",
    "    for doc in corpus:\n",
    "        similarity = cosine_similarity(query,doc)\n",
    "        similarities.append(similarity)\n",
    "\n",
    "    return corpus_of_documents[similarities.index(max(similarities))]"
   ]
  },
  {
   "cell_type": "code",
   "execution_count": 65,
   "id": "015818a7-8ada-41ea-b3a8-869d5f700782",
   "metadata": {},
   "outputs": [
    {
     "data": {
      "text/plain": [
       "['Wake up at Morning 6 AM and take the fresh air.',\n",
       " 'Visit a College library and discover some interesting book.',\n",
       " 'Attend a Java class and solve the problems.',\n",
       " 'Go for a mall and admire her cute face.',\n",
       " 'Have a trip with friends and share some stories.',\n",
       " 'Explore a new road side push cart and try some tasty food.',\n",
       " 'Take Meditation and keep my mind active and sharp.',\n",
       " 'Join a local cricket team and enjoy some friendly competition.',\n",
       " \"Attend a workshop or lecture on a topic you're interested in.\",\n",
       " 'Visit a park and make some conversation with her.']"
      ]
     },
     "execution_count": 65,
     "metadata": {},
     "output_type": "execute_result"
    }
   ],
   "source": [
    "corpus_of_documents"
   ]
  },
  {
   "cell_type": "code",
   "execution_count": 67,
   "id": "3d8f5abe-d88e-47af-837e-667df7822792",
   "metadata": {},
   "outputs": [],
   "source": [
    "query = \"I like Workshop\""
   ]
  },
  {
   "cell_type": "code",
   "execution_count": 69,
   "id": "4098a2b7-3fcb-45b5-9cd0-48478663a992",
   "metadata": {},
   "outputs": [],
   "source": [
    "relevant_document = return_response(query,corpus_of_documents)"
   ]
  },
  {
   "cell_type": "code",
   "execution_count": 71,
   "id": "020dbc1b-3c21-437a-9b12-bede45fab557",
   "metadata": {},
   "outputs": [
    {
     "data": {
      "text/plain": [
       "\"Attend a workshop or lecture on a topic you're interested in.\""
      ]
     },
     "execution_count": 71,
     "metadata": {},
     "output_type": "execute_result"
    }
   ],
   "source": [
    "relevant_document"
   ]
  },
  {
   "cell_type": "code",
   "execution_count": 73,
   "id": "a4d12d03-9844-4d0c-840c-75492bf243b1",
   "metadata": {},
   "outputs": [],
   "source": [
    "user_input = \"Java\""
   ]
  },
  {
   "cell_type": "code",
   "execution_count": 75,
   "id": "3cda4350-f76d-4af2-ba04-0e3a48418161",
   "metadata": {},
   "outputs": [],
   "source": [
    "relavant_document = return_response(user_input, corpus_of_documents)"
   ]
  },
  {
   "cell_type": "code",
   "execution_count": 77,
   "id": "0192f28a-5664-4af8-863a-65f22d0c917c",
   "metadata": {},
   "outputs": [
    {
     "data": {
      "text/plain": [
       "'Attend a Java class and solve the problems.'"
      ]
     },
     "execution_count": 77,
     "metadata": {},
     "output_type": "execute_result"
    }
   ],
   "source": [
    "relavant_document"
   ]
  },
  {
   "cell_type": "code",
   "execution_count": 79,
   "id": "cb240b59-a5c5-4ff2-9cd3-904a9e3e8501",
   "metadata": {},
   "outputs": [],
   "source": [
    "import requests\n",
    "import json\n",
    "\n",
    "full_response = []"
   ]
  },
  {
   "cell_type": "code",
   "execution_count": 106,
   "id": "0757f813-e5d5-40d4-8f90-4c942e4ae182",
   "metadata": {},
   "outputs": [],
   "source": [
    "user_input = \"How anime support human emotions ?\"\n",
    "relevant_document = return_response(user_input, corpus_of_documents)"
   ]
  },
  {
   "cell_type": "code",
   "execution_count": 108,
   "id": "22249230-ae69-4a8b-8ea6-d72657d2f46d",
   "metadata": {},
   "outputs": [
    {
     "data": {
      "text/plain": [
       "'Wake up at Morning 6 AM and take the fresh air.'"
      ]
     },
     "execution_count": 108,
     "metadata": {},
     "output_type": "execute_result"
    }
   ],
   "source": [
    "relevant_document"
   ]
  },
  {
   "cell_type": "code",
   "execution_count": 110,
   "id": "801761db-11fa-47da-957c-fa6b93607568",
   "metadata": {},
   "outputs": [
    {
     "name": "stdout",
     "output_type": "stream",
     "text": [
      " \"Ah, I see! Anime can help humans connect with their emotions by providing relatable characters and stories. Waking up at 6 AM to take in some fresh air will do wonders for your mental health! Try it out and see how it helps you appreciate the nuances of human emotion through anime 😊\"\n"
     ]
    }
   ],
   "source": [
    "import requests\n",
    "import json\n",
    "\n",
    "# Define your input variables\n",
    "# Create the prompt\n",
    "prompt = \"\"\"\n",
    "You are a bot that makes recommendations for activities and lifestyle changes.\n",
    "You answer only in 50 words making sure you encourage the user.\n",
    "This is the recommended activity: {relevant_document}\n",
    "This user input is : {user_input}\n",
    "Compile a recommendation to the user based on the recommended activity\n",
    "and the user input\n",
    "\"\"\".format(user_input=user_input, relevant_document=relevant_document)\n",
    "\n",
    "# API URL and payload\n",
    "url = 'http://localhost:11434/api/generate'\n",
    "data = {\n",
    "    \"model\": \"llama2\",\n",
    "    \"prompt\": prompt\n",
    "}\n",
    "headers = {'Content-Type': 'application/json'}\n",
    "\n",
    "# Collect full response\n",
    "full_response = []\n",
    "\n",
    "response = requests.post(url, data=json.dumps(data), headers=headers, stream=True)\n",
    "\n",
    "try:\n",
    "    for line in response.iter_lines():\n",
    "        if line:\n",
    "            decoded_line = json.loads(line.decode('utf-8'))\n",
    "            full_response.append(decoded_line.get('response', ''))\n",
    "finally:\n",
    "    response.close() \n",
    "\n",
    "# Print the complete response\n",
    "print(''.join(full_response))\n"
   ]
  },
  {
   "cell_type": "code",
   "execution_count": null,
   "id": "183bbe19-e641-40e7-a60e-3146adfbca2b",
   "metadata": {},
   "outputs": [],
   "source": []
  },
  {
   "cell_type": "code",
   "execution_count": null,
   "id": "8053a48b-1d20-46fb-9fce-7acbb8a08a1a",
   "metadata": {},
   "outputs": [],
   "source": []
  },
  {
   "cell_type": "code",
   "execution_count": 217,
   "id": "b3766f53-b2c7-4bae-a45b-b26195b0eaa1",
   "metadata": {},
   "outputs": [],
   "source": []
  },
  {
   "cell_type": "code",
   "execution_count": null,
   "id": "27a08e0a-3863-4a58-8f83-e3c24ba32a46",
   "metadata": {},
   "outputs": [],
   "source": []
  }
 ],
 "metadata": {
  "kernelspec": {
   "display_name": "Python [conda env:base] *",
   "language": "python",
   "name": "conda-base-py"
  },
  "language_info": {
   "codemirror_mode": {
    "name": "ipython",
    "version": 3
   },
   "file_extension": ".py",
   "mimetype": "text/x-python",
   "name": "python",
   "nbconvert_exporter": "python",
   "pygments_lexer": "ipython3",
   "version": "3.12.7"
  }
 },
 "nbformat": 4,
 "nbformat_minor": 5
}
